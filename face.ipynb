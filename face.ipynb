{
 "metadata": {
  "language_info": {
   "codemirror_mode": {
    "name": "ipython",
    "version": 3
   },
   "file_extension": ".py",
   "mimetype": "text/x-python",
   "name": "python",
   "nbconvert_exporter": "python",
   "pygments_lexer": "ipython3",
   "version": "3.8.5-final"
  },
  "orig_nbformat": 2,
  "kernelspec": {
   "name": "python3",
   "display_name": "Python 3.8.5 64-bit ('anaconda3': virtualenv)",
   "metadata": {
    "interpreter": {
     "hash": "694face625c5afb9fd9be72242b92eb59ee4372192afffe19b027c2faec6d8f1"
    }
   }
  }
 },
 "nbformat": 4,
 "nbformat_minor": 2,
 "cells": [
  {
   "cell_type": "code",
   "execution_count": 22,
   "metadata": {},
   "outputs": [],
   "source": [
    "from azure.cognitiveservices.vision.face import FaceClient\n",
    "from msrest.authentication import CognitiveServicesCredentials"
   ]
  },
  {
   "cell_type": "code",
   "execution_count": 23,
   "metadata": {},
   "outputs": [],
   "source": [
    "KEY = 'c9edcea2cc434e73917f7ec5a25a9a52'\n",
    "ENDPOINT = 'https://face-recognition-tdy.cognitiveservices.azure.com'\n",
    "face_client = FaceClient(ENDPOINT,CognitiveServicesCredentials(KEY))"
   ]
  },
  {
   "cell_type": "code",
   "execution_count": 24,
   "metadata": {},
   "outputs": [],
   "source": [
    "url = 'https://img.olympicchannel.com/images/image/private/t_16-9_1280/f_auto/v1538355600/primary/zoaqhng9u4c6yyuqlka2'"
   ]
  },
  {
   "cell_type": "code",
   "execution_count": 25,
   "metadata": {},
   "outputs": [
    {
     "output_type": "stream",
     "name": "stdout",
     "text": [
      "[<azure.cognitiveservices.vision.face.models._models_py3.DetectedFace object at 0x7f81f9a15040>]\n"
     ]
    }
   ],
   "source": [
    "detected_faces = face_client.face.detect_with_url(\n",
    "    url = url,\n",
    "    return_face_attributes= ['age','gender','smile','glasses','emotion']\n",
    ")\n",
    "print(detected_faces)"
   ]
  },
  {
   "cell_type": "code",
   "execution_count": 26,
   "metadata": {},
   "outputs": [
    {
     "output_type": "stream",
     "name": "stdout",
     "text": [
      "{'additional_properties': {}, 'face_id': '066ca626-d673-43cd-aaf1-b927a88ddeb0', 'recognition_model': None, 'face_rectangle': <azure.cognitiveservices.vision.face.models._models_py3.FaceRectangle object at 0x7f81f9a153a0>, 'face_landmarks': None, 'face_attributes': <azure.cognitiveservices.vision.face.models._models_py3.FaceAttributes object at 0x7f81f9a15400>}\n"
     ]
    }
   ],
   "source": [
    "print(detected_faces[0])"
   ]
  },
  {
   "cell_type": "code",
   "execution_count": 27,
   "metadata": {},
   "outputs": [
    {
     "output_type": "stream",
     "name": "stdout",
     "text": [
      "{'additional_properties': {}, 'age': 22.0, 'gender': <Gender.male: 'male'>, 'smile': 0.625, 'facial_hair': None, 'glasses': <GlassesType.no_glasses: 'noGlasses'>, 'head_pose': None, 'emotion': <azure.cognitiveservices.vision.face.models._models_py3.Emotion object at 0x7f81f9a15100>, 'hair': None, 'makeup': None, 'occlusion': None, 'accessories': None, 'blur': None, 'exposure': None, 'noise': None, 'mask': None}\n"
     ]
    }
   ],
   "source": [
    "print(detected_faces[0].face_attributes)"
   ]
  },
  {
   "cell_type": "code",
   "execution_count": 30,
   "metadata": {},
   "outputs": [
    {
     "output_type": "stream",
     "name": "stdout",
     "text": [
      "[<azure.cognitiveservices.vision.face.models._models_py3.DetectedFace object at 0x7f81f945a520>]\n"
     ]
    }
   ],
   "source": [
    "with open ('img/ootani.jpg','rb') as image:\n",
    "    face_attributes = ['age','gender','smile','glasses','emotion']\n",
    "    detacted_faces_2 =face_client.face.detect_with_stream(\n",
    "        image,\n",
    "        return_face_attributes = face_attributes\n",
    "    )\n",
    "print(detacted_faces_2)"
   ]
  },
  {
   "cell_type": "code",
   "execution_count": 31,
   "metadata": {},
   "outputs": [
    {
     "output_type": "stream",
     "name": "stdout",
     "text": [
      "{'additional_properties': {}, 'face_id': '8774f1f6-55bf-4bb1-b80c-953f85be42f0', 'recognition_model': None, 'face_rectangle': <azure.cognitiveservices.vision.face.models._models_py3.FaceRectangle object at 0x7f81f97fd0a0>, 'face_landmarks': None, 'face_attributes': <azure.cognitiveservices.vision.face.models._models_py3.FaceAttributes object at 0x7f81f945a400>}\n"
     ]
    }
   ],
   "source": [
    "print(detacted_faces_2[0])"
   ]
  },
  {
   "cell_type": "code",
   "execution_count": 32,
   "metadata": {},
   "outputs": [
    {
     "output_type": "stream",
     "name": "stdout",
     "text": [
      "{'additional_properties': {}, 'age': 22.0, 'gender': <Gender.male: 'male'>, 'smile': 0.625, 'facial_hair': None, 'glasses': <GlassesType.no_glasses: 'noGlasses'>, 'head_pose': None, 'emotion': <azure.cognitiveservices.vision.face.models._models_py3.Emotion object at 0x7f81f97fd250>, 'hair': None, 'makeup': None, 'occlusion': None, 'accessories': None, 'blur': None, 'exposure': None, 'noise': None, 'mask': None}\n"
     ]
    }
   ],
   "source": [
    "print(detacted_faces_2[0].face_attributes)"
   ]
  },
  {
   "cell_type": "code",
   "execution_count": 33,
   "metadata": {},
   "outputs": [],
   "source": [
    "face_id_1 = detected_faces[0].face_id\n",
    "face_id_2 = detacted_faces_2[0].face_id"
   ]
  },
  {
   "cell_type": "code",
   "execution_count": 34,
   "metadata": {},
   "outputs": [
    {
     "output_type": "stream",
     "name": "stdout",
     "text": [
      "{'additional_properties': {}, 'is_identical': True, 'confidence': 1.0}\n"
     ]
    }
   ],
   "source": [
    "verified = face_client.face.verify_face_to_face(face_id_1, face_id_2)\n",
    "print(verified)"
   ]
  },
  {
   "cell_type": "code",
   "execution_count": 35,
   "metadata": {},
   "outputs": [],
   "source": [
    "person_group_id = 'ootani'"
   ]
  },
  {
   "cell_type": "code",
   "execution_count": 36,
   "metadata": {},
   "outputs": [],
   "source": [
    "face_client.person_group.create(\n",
    "    person_group_id,\n",
    "    name = 'Person Group for Menta'\n",
    ")"
   ]
  },
  {
   "cell_type": "code",
   "execution_count": 40,
   "metadata": {},
   "outputs": [
    {
     "output_type": "stream",
     "name": "stdout",
     "text": [
      "{'additional_properties': {}, 'name': 'Person Group for Menta', 'user_data': None, 'recognition_model': None, 'person_group_id': 'ootani'}\n"
     ]
    }
   ],
   "source": [
    "ootani = face_client.person_group.get(person_group_id)\n",
    "print(ootani)"
   ]
  },
  {
   "cell_type": "code",
   "execution_count": 42,
   "metadata": {},
   "outputs": [],
   "source": [
    "audrey_name = '大谷 翔平'\n",
    "# Person を登録\n",
    "audrey = face_client.person_group_person.create(\n",
    "    person_group_id = ootani.person_group_id, #PersonGroupのIDを指定\n",
    "    name = audrey_name\n",
    ")"
   ]
  },
  {
   "cell_type": "code",
   "execution_count": 43,
   "metadata": {},
   "outputs": [
    {
     "output_type": "stream",
     "name": "stdout",
     "text": [
      "{'additional_properties': {}, 'persisted_face_id': '8dd0ae91-5294-45e6-8239-cb5db0a7d6c1', 'user_data': None}\n"
     ]
    }
   ],
   "source": [
    "audrey_face_1 = face_client.person_group_person.add_face_from_url(\n",
    "    person_group_id = ootani.person_group_id,\n",
    "    person_id = audrey.person_id,\n",
    "    url = url\n",
    ")\n",
    "print(audrey_face_1)"
   ]
  },
  {
   "cell_type": "code",
   "execution_count": 44,
   "metadata": {},
   "outputs": [
    {
     "output_type": "stream",
     "name": "stdout",
     "text": [
      "{'additional_properties': {}, 'persisted_face_id': '23905596-6a3c-40e9-902a-aacb49dc081a', 'user_data': None}\n"
     ]
    }
   ],
   "source": [
    "with open ('img/ootani.jpg' , 'rb') as image:\n",
    "    audrey_face_2 = face_client.person_group_person.add_face_from_stream(\n",
    "        person_group_id = ootani.person_group_id,\n",
    "        person_id = audrey.person_id,\n",
    "        image = image\n",
    "    )\n",
    "print(audrey_face_2)"
   ]
  },
  {
   "cell_type": "code",
   "execution_count": 45,
   "metadata": {},
   "outputs": [
    {
     "output_type": "stream",
     "name": "stdout",
     "text": [
      "{'additional_properties': {}, 'name': None, 'user_data': None, 'person_id': '80342445-b110-4f4d-8b27-4852474dca63', 'persisted_face_ids': None}\n"
     ]
    }
   ],
   "source": [
    "print(audrey)"
   ]
  },
  {
   "cell_type": "code",
   "execution_count": 46,
   "metadata": {},
   "outputs": [
    {
     "output_type": "stream",
     "name": "stdout",
     "text": [
      "{'additional_properties': {}, 'name': '大谷 翔平', 'user_data': None, 'person_id': '80342445-b110-4f4d-8b27-4852474dca63', 'persisted_face_ids': ['23905596-6a3c-40e9-902a-aacb49dc081a', '8dd0ae91-5294-45e6-8239-cb5db0a7d6c1']}\n"
     ]
    }
   ],
   "source": [
    "audrey = face_client.person_group_person.get(\n",
    "    person_group_id = ootani.person_group_id,\n",
    "    person_id = audrey.person_id\n",
    ")\n",
    "print(audrey)"
   ]
  },
  {
   "cell_type": "code",
   "execution_count": 48,
   "metadata": {},
   "outputs": [
    {
     "output_type": "stream",
     "name": "stdout",
     "text": [
      "{'additional_properties': {}, 'face_id': '6d2936ec-6865-4a44-8887-52be6d8d97af', 'recognition_model': None, 'face_rectangle': <azure.cognitiveservices.vision.face.models._models_py3.FaceRectangle object at 0x7f81fa33f190>, 'face_landmarks': None, 'face_attributes': None}\n"
     ]
    }
   ],
   "source": [
    "url ='https://cdn.findfriends.jp/img.sp.baseball/show_img.php?id=34503&contents_id=p_page_097'\n",
    "detected_faces_3 = face_client.face.detect_with_url(url)\n",
    "print(detected_faces_3[0])"
   ]
  },
  {
   "cell_type": "code",
   "execution_count": 50,
   "metadata": {},
   "outputs": [
    {
     "output_type": "stream",
     "name": "stdout",
     "text": [
      "{'additional_properties': {}, 'is_identical': True, 'confidence': 0.64847}\n"
     ]
    }
   ],
   "source": [
    "verified = face_client.face.verify_face_to_person(face_id = detected_faces_3[0].face_id,person_group_id = ootani.person_group_id,person_id = audrey.person_id)\n",
    "print(verified)"
   ]
  }
 ]
}