{
 "metadata": {
  "language_info": {
   "codemirror_mode": {
    "name": "ipython",
    "version": 3
   },
   "file_extension": ".py",
   "mimetype": "text/x-python",
   "name": "python",
   "nbconvert_exporter": "python",
   "pygments_lexer": "ipython3",
   "version": "3.8.5-final"
  },
  "orig_nbformat": 2,
  "kernelspec": {
   "name": "python3",
   "display_name": "Python 3.8.5 64-bit ('base': conda)",
   "metadata": {
    "interpreter": {
     "hash": "694face625c5afb9fd9be72242b92eb59ee4372192afffe19b027c2faec6d8f1"
    }
   }
  }
 },
 "nbformat": 4,
 "nbformat_minor": 2,
 "cells": [
  {
   "cell_type": "code",
   "execution_count": 1,
   "metadata": {},
   "outputs": [],
   "source": [
    "from azure.cognitiveservices.vision.face import FaceClient\n",
    "from msrest.authentication import CognitiveServicesCredentials"
   ]
  },
  {
   "cell_type": "code",
   "execution_count": 2,
   "metadata": {},
   "outputs": [],
   "source": [
    "KEY = 'c9edcea2cc434e73917f7ec5a25a9a52'\n",
    "ENDPOINT = 'https://face-recognition-tdy.cognitiveservices.azure.com'\n",
    "face_client = FaceClient(ENDPOINT,CognitiveServicesCredentials(KEY))"
   ]
  },
  {
   "cell_type": "code",
   "execution_count": 3,
   "metadata": {},
   "outputs": [],
   "source": [
    "url = 'https://img.olympicchannel.com/images/image/private/t_16-9_1280/f_auto/v1538355600/primary/zoaqhng9u4c6yyuqlka2'"
   ]
  },
  {
   "cell_type": "code",
   "execution_count": 4,
   "metadata": {},
   "outputs": [
    {
     "output_type": "stream",
     "name": "stdout",
     "text": [
      "[<azure.cognitiveservices.vision.face.models._models_py3.DetectedFace object at 0x7fa788b96a60>]\n"
     ]
    }
   ],
   "source": [
    "detected_faces = face_client.face.detect_with_url(\n",
    "    url = url,\n",
    "    return_face_attributes= ['age','gender','smile','glasses','emotion']\n",
    ")\n",
    "print(detected_faces)"
   ]
  },
  {
   "cell_type": "code",
   "execution_count": 5,
   "metadata": {},
   "outputs": [
    {
     "output_type": "stream",
     "name": "stdout",
     "text": [
      "{'additional_properties': {}, 'face_id': '218db68c-4296-4bbd-a88b-eef0f7a264c3', 'recognition_model': None, 'face_rectangle': <azure.cognitiveservices.vision.face.models._models_py3.FaceRectangle object at 0x7fa788b96040>, 'face_landmarks': None, 'face_attributes': <azure.cognitiveservices.vision.face.models._models_py3.FaceAttributes object at 0x7fa788b96c40>}\n"
     ]
    }
   ],
   "source": [
    "print(detected_faces[0])"
   ]
  },
  {
   "cell_type": "code",
   "execution_count": 6,
   "metadata": {},
   "outputs": [
    {
     "output_type": "stream",
     "name": "stdout",
     "text": [
      "{'additional_properties': {}, 'age': 22.0, 'gender': <Gender.male: 'male'>, 'smile': 0.625, 'facial_hair': None, 'glasses': <GlassesType.no_glasses: 'noGlasses'>, 'head_pose': None, 'emotion': <azure.cognitiveservices.vision.face.models._models_py3.Emotion object at 0x7fa788b969d0>, 'hair': None, 'makeup': None, 'occlusion': None, 'accessories': None, 'blur': None, 'exposure': None, 'noise': None, 'mask': None}\n"
     ]
    }
   ],
   "source": [
    "print(detected_faces[0].face_attributes)"
   ]
  },
  {
   "cell_type": "code",
   "execution_count": 7,
   "metadata": {},
   "outputs": [
    {
     "output_type": "stream",
     "name": "stdout",
     "text": [
      "[<azure.cognitiveservices.vision.face.models._models_py3.DetectedFace object at 0x7fa788b96d00>]\n"
     ]
    }
   ],
   "source": [
    "with open ('img/ootani.jpg','rb') as image:\n",
    "    face_attributes = ['age','gender','smile','glasses','emotion']\n",
    "    detacted_faces_2 =face_client.face.detect_with_stream(\n",
    "        image,\n",
    "        return_face_attributes = face_attributes\n",
    "    )\n",
    "print(detacted_faces_2)"
   ]
  },
  {
   "cell_type": "code",
   "execution_count": 8,
   "metadata": {},
   "outputs": [
    {
     "output_type": "stream",
     "name": "stdout",
     "text": [
      "{'additional_properties': {}, 'face_id': '6134e96d-57a1-4699-9a32-e2073b51141c', 'recognition_model': None, 'face_rectangle': <azure.cognitiveservices.vision.face.models._models_py3.FaceRectangle object at 0x7fa788b96910>, 'face_landmarks': None, 'face_attributes': <azure.cognitiveservices.vision.face.models._models_py3.FaceAttributes object at 0x7fa788b96fa0>}\n"
     ]
    }
   ],
   "source": [
    "print(detacted_faces_2[0])"
   ]
  },
  {
   "cell_type": "code",
   "execution_count": 9,
   "metadata": {},
   "outputs": [
    {
     "output_type": "stream",
     "name": "stdout",
     "text": [
      "{'additional_properties': {}, 'age': 22.0, 'gender': <Gender.male: 'male'>, 'smile': 0.625, 'facial_hair': None, 'glasses': <GlassesType.no_glasses: 'noGlasses'>, 'head_pose': None, 'emotion': <azure.cognitiveservices.vision.face.models._models_py3.Emotion object at 0x7fa788b96af0>, 'hair': None, 'makeup': None, 'occlusion': None, 'accessories': None, 'blur': None, 'exposure': None, 'noise': None, 'mask': None}\n"
     ]
    }
   ],
   "source": [
    "print(detacted_faces_2[0].face_attributes)"
   ]
  },
  {
   "cell_type": "code",
   "execution_count": 10,
   "metadata": {},
   "outputs": [],
   "source": [
    "face_id_1 = detected_faces[0].face_id\n",
    "face_id_2 = detacted_faces_2[0].face_id"
   ]
  },
  {
   "cell_type": "code",
   "execution_count": 11,
   "metadata": {},
   "outputs": [
    {
     "output_type": "stream",
     "name": "stdout",
     "text": [
      "{'additional_properties': {}, 'is_identical': True, 'confidence': 1.0}\n"
     ]
    }
   ],
   "source": [
    "verified = face_client.face.verify_face_to_face(face_id_1, face_id_2)\n",
    "print(verified)"
   ]
  },
  {
   "cell_type": "code",
   "execution_count": 12,
   "metadata": {},
   "outputs": [],
   "source": [
    "person_group_id = 'ootani'"
   ]
  },
  {
   "cell_type": "code",
   "execution_count": 14,
   "metadata": {},
   "outputs": [
    {
     "output_type": "error",
     "ename": "APIErrorException",
     "evalue": "(PersonGroupExists) Person group 'ootani' already exists.",
     "traceback": [
      "\u001b[0;31m---------------------------------------------------------------------------\u001b[0m",
      "\u001b[0;31mAPIErrorException\u001b[0m                         Traceback (most recent call last)",
      "\u001b[0;32m<ipython-input-14-84a46f65eed0>\u001b[0m in \u001b[0;36m<module>\u001b[0;34m\u001b[0m\n\u001b[0;32m----> 1\u001b[0;31m face_client.person_group.create(\n\u001b[0m\u001b[1;32m      2\u001b[0m     \u001b[0mperson_group_id\u001b[0m\u001b[0;34m,\u001b[0m\u001b[0;34m\u001b[0m\u001b[0;34m\u001b[0m\u001b[0m\n\u001b[1;32m      3\u001b[0m     \u001b[0mname\u001b[0m \u001b[0;34m=\u001b[0m \u001b[0;34m'Person Group for Menta'\u001b[0m\u001b[0;34m\u001b[0m\u001b[0;34m\u001b[0m\u001b[0m\n\u001b[1;32m      4\u001b[0m )\n",
      "\u001b[0;32m~/opt/anaconda3/lib/python3.8/site-packages/azure/cognitiveservices/vision/face/operations/_person_group_operations.py\u001b[0m in \u001b[0;36mcreate\u001b[0;34m(self, person_group_id, name, user_data, recognition_model, custom_headers, raw, **operation_config)\u001b[0m\n\u001b[1;32m    119\u001b[0m \u001b[0;34m\u001b[0m\u001b[0m\n\u001b[1;32m    120\u001b[0m         \u001b[0;32mif\u001b[0m \u001b[0mresponse\u001b[0m\u001b[0;34m.\u001b[0m\u001b[0mstatus_code\u001b[0m \u001b[0;32mnot\u001b[0m \u001b[0;32min\u001b[0m \u001b[0;34m[\u001b[0m\u001b[0;36m200\u001b[0m\u001b[0;34m]\u001b[0m\u001b[0;34m:\u001b[0m\u001b[0;34m\u001b[0m\u001b[0;34m\u001b[0m\u001b[0m\n\u001b[0;32m--> 121\u001b[0;31m             \u001b[0;32mraise\u001b[0m \u001b[0mmodels\u001b[0m\u001b[0;34m.\u001b[0m\u001b[0mAPIErrorException\u001b[0m\u001b[0;34m(\u001b[0m\u001b[0mself\u001b[0m\u001b[0;34m.\u001b[0m\u001b[0m_deserialize\u001b[0m\u001b[0;34m,\u001b[0m \u001b[0mresponse\u001b[0m\u001b[0;34m)\u001b[0m\u001b[0;34m\u001b[0m\u001b[0;34m\u001b[0m\u001b[0m\n\u001b[0m\u001b[1;32m    122\u001b[0m \u001b[0;34m\u001b[0m\u001b[0m\n\u001b[1;32m    123\u001b[0m         \u001b[0;32mif\u001b[0m \u001b[0mraw\u001b[0m\u001b[0;34m:\u001b[0m\u001b[0;34m\u001b[0m\u001b[0;34m\u001b[0m\u001b[0m\n",
      "\u001b[0;31mAPIErrorException\u001b[0m: (PersonGroupExists) Person group 'ootani' already exists."
     ]
    }
   ],
   "source": [
    "face_client.person_group.create(\n",
    "    person_group_id,\n",
    "    name = 'Person Group for Menta'\n",
    ")"
   ]
  },
  {
   "cell_type": "code",
   "execution_count": 15,
   "metadata": {},
   "outputs": [
    {
     "output_type": "stream",
     "name": "stdout",
     "text": [
      "{'additional_properties': {}, 'name': 'Person Group for Menta', 'user_data': None, 'recognition_model': None, 'person_group_id': 'ootani'}\n"
     ]
    }
   ],
   "source": [
    "ootani = face_client.person_group.get(person_group_id)\n",
    "print(ootani)"
   ]
  },
  {
   "cell_type": "code",
   "execution_count": 16,
   "metadata": {},
   "outputs": [],
   "source": [
    "audrey_name = '大谷 翔平'\n",
    "# Person を登録\n",
    "audrey = face_client.person_group_person.create(\n",
    "    person_group_id = ootani.person_group_id, #PersonGroupのIDを指定\n",
    "    name = audrey_name\n",
    ")"
   ]
  },
  {
   "cell_type": "code",
   "execution_count": 17,
   "metadata": {},
   "outputs": [
    {
     "output_type": "stream",
     "name": "stdout",
     "text": [
      "{'additional_properties': {}, 'persisted_face_id': '39c716d0-3b47-4cb8-b683-333d145999b4', 'user_data': None}\n"
     ]
    }
   ],
   "source": [
    "audrey_face_1 = face_client.person_group_person.add_face_from_url(\n",
    "    person_group_id = ootani.person_group_id,\n",
    "    person_id = audrey.person_id,\n",
    "    url = url\n",
    ")\n",
    "print(audrey_face_1)"
   ]
  },
  {
   "cell_type": "code",
   "execution_count": 18,
   "metadata": {},
   "outputs": [
    {
     "output_type": "stream",
     "name": "stdout",
     "text": [
      "{'additional_properties': {}, 'persisted_face_id': 'e439982c-9d3c-491a-855b-5e4d00696fb6', 'user_data': None}\n"
     ]
    }
   ],
   "source": [
    "with open ('img/ootani.jpg' , 'rb') as image:\n",
    "    audrey_face_2 = face_client.person_group_person.add_face_from_stream(\n",
    "        person_group_id = ootani.person_group_id,\n",
    "        person_id = audrey.person_id,\n",
    "        image = image\n",
    "    )\n",
    "print(audrey_face_2)"
   ]
  },
  {
   "cell_type": "code",
   "execution_count": 19,
   "metadata": {},
   "outputs": [
    {
     "output_type": "stream",
     "name": "stdout",
     "text": [
      "{'additional_properties': {}, 'name': None, 'user_data': None, 'person_id': '0e13c2bb-dd3c-4d3c-9594-2b2cd6b138ea', 'persisted_face_ids': None}\n"
     ]
    }
   ],
   "source": [
    "print(audrey)"
   ]
  },
  {
   "cell_type": "code",
   "execution_count": 20,
   "metadata": {},
   "outputs": [
    {
     "output_type": "stream",
     "name": "stdout",
     "text": [
      "{'additional_properties': {}, 'name': '大谷 翔平', 'user_data': None, 'person_id': '0e13c2bb-dd3c-4d3c-9594-2b2cd6b138ea', 'persisted_face_ids': ['39c716d0-3b47-4cb8-b683-333d145999b4', 'e439982c-9d3c-491a-855b-5e4d00696fb6']}\n"
     ]
    }
   ],
   "source": [
    "audrey = face_client.person_group_person.get(\n",
    "    person_group_id = ootani.person_group_id,\n",
    "    person_id = audrey.person_id\n",
    ")\n",
    "print(audrey)"
   ]
  },
  {
   "cell_type": "code",
   "execution_count": 21,
   "metadata": {},
   "outputs": [
    {
     "output_type": "stream",
     "name": "stdout",
     "text": [
      "{'additional_properties': {}, 'face_id': '8ad42052-433a-439e-90ae-97185cb9b85d', 'recognition_model': None, 'face_rectangle': <azure.cognitiveservices.vision.face.models._models_py3.FaceRectangle object at 0x7fa788be90a0>, 'face_landmarks': None, 'face_attributes': None}\n"
     ]
    }
   ],
   "source": [
    "url ='https://cdn.findfriends.jp/img.sp.baseball/show_img.php?id=34503&contents_id=p_page_097'\n",
    "detected_faces_3 = face_client.face.detect_with_url(url)\n",
    "print(detected_faces_3[0])"
   ]
  },
  {
   "cell_type": "code",
   "execution_count": 22,
   "metadata": {},
   "outputs": [
    {
     "output_type": "stream",
     "name": "stdout",
     "text": [
      "{'additional_properties': {}, 'is_identical': True, 'confidence': 0.64847}\n"
     ]
    }
   ],
   "source": [
    "verified = face_client.face.verify_face_to_person(face_id = detected_faces_3[0].face_id,person_group_id = ootani.person_group_id,person_id = audrey.person_id)\n",
    "print(verified)"
   ]
  },
  {
   "cell_type": "code",
   "execution_count": 23,
   "metadata": {},
   "outputs": [
    {
     "output_type": "execute_result",
     "data": {
      "text/plain": [
       "'ootani'"
      ]
     },
     "metadata": {},
     "execution_count": 23
    }
   ],
   "source": [
    "ootani.person_group_id"
   ]
  },
  {
   "cell_type": "code",
   "execution_count": 24,
   "metadata": {},
   "outputs": [
    {
     "output_type": "execute_result",
     "data": {
      "text/plain": [
       "'0e13c2bb-dd3c-4d3c-9594-2b2cd6b138ea'"
      ]
     },
     "metadata": {},
     "execution_count": 24
    }
   ],
   "source": [
    "audrey.person_id"
   ]
  },
  {
   "cell_type": "code",
   "execution_count": null,
   "metadata": {},
   "outputs": [],
   "source": []
  }
 ]
}